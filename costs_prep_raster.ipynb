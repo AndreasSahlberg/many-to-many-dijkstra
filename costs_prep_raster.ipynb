{
 "cells": [
  {
   "cell_type": "code",
   "execution_count": 1,
   "metadata": {},
   "outputs": [],
   "source": [
    "import fiona\n",
    "import rasterio\n",
    "import rasterio.mask\n",
    "from rasterio.features import rasterize\n",
    "from rasterio.transform import from_bounds\n",
    "from rasterio.warp import calculate_default_transform, reproject, Resampling\n",
    "import geopandas as gpd\n",
    "import json\n",
    "import richdem as rd\n",
    "from shapely.geometry import box\n",
    "from shapely.geometry import shape, mapping\n",
    "import pandas as pd\n",
    "import numpy as np\n",
    "from geopandas import clip\n",
    "import scipy\n",
    "import scipy.spatial\n",
    "import datetime\n",
    "import numba\n",
    "\n",
    "from pathfinder import *\n",
    "\n",
    "%matplotlib inline\n",
    "%load_ext line_profiler\n",
    "\n",
    "import warnings\n",
    "warnings.filterwarnings('ignore')"
   ]
  },
  {
   "cell_type": "markdown",
   "metadata": {},
   "source": [
    "#### Define the workspace to read and write data from"
   ]
  },
  {
   "cell_type": "code",
   "execution_count": 2,
   "metadata": {},
   "outputs": [],
   "source": [
    "workspace = 'burundi'"
   ]
  },
  {
   "cell_type": "markdown",
   "metadata": {},
   "source": [
    "#### Define the target coordinate reference system (CRS) - should be in meters"
   ]
  },
  {
   "cell_type": "code",
   "execution_count": 3,
   "metadata": {},
   "outputs": [],
   "source": [
    "crs = 3395"
   ]
  },
  {
   "cell_type": "markdown",
   "metadata": {},
   "source": [
    "#### Next, define the path to a polygon of your study area (e.g. from GADM)"
   ]
  },
  {
   "cell_type": "code",
   "execution_count": 4,
   "metadata": {},
   "outputs": [],
   "source": [
    "boundaries_path = r'C:\\GitHub\\many-to-many-dijkstra\\burundi\\gadm36_BDI.gpkg'"
   ]
  },
  {
   "cell_type": "code",
   "execution_count": 5,
   "metadata": {},
   "outputs": [],
   "source": [
    "boundaries = gpd.read_file(boundaries_path).to_crs(crs)"
   ]
  },
  {
   "cell_type": "markdown",
   "metadata": {},
   "source": [
    "#### In the next step, we create a raster of the study area with a defined resolution"
   ]
  },
  {
   "cell_type": "code",
   "execution_count": 6,
   "metadata": {},
   "outputs": [],
   "source": [
    "resolution = 50 # meters (same unit as your crs)"
   ]
  },
  {
   "cell_type": "code",
   "execution_count": 7,
   "metadata": {},
   "outputs": [],
   "source": [
    "total_bounds = boundaries['geometry'].total_bounds\n",
    "width = round((total_bounds[3] - total_bounds[1])/resolution)\n",
    "height = round((total_bounds[2] - total_bounds[0])/resolution)\n",
    "\n",
    "shape =  height, width\n",
    "transform = rasterio.transform.from_bounds(*boundaries['geometry'].total_bounds, shape[0], shape[1])\n",
    "rasterized = rasterize(\n",
    "    [(shape) for shape in boundaries['geometry']],\n",
    "    out_shape=(width, height),\n",
    "    transform=transform,\n",
    "    all_touched=True,\n",
    "    dtype=rasterio.uint8)\n",
    "\n",
    "with rasterio.open(\n",
    "    workspace + '/' 'raster.tif', 'w',\n",
    "    driver='GTiff',\n",
    "    dtype=rasterio.uint8,\n",
    "    count=1,\n",
    "    crs = crs,\n",
    "    width=shape[0],\n",
    "    height=shape[1],\n",
    "    transform=transform,\n",
    "    nodata = 0\n",
    ") as dst:\n",
    "    dst.write(rasterized, indexes=1)"
   ]
  },
  {
   "cell_type": "code",
   "execution_count": 8,
   "metadata": {},
   "outputs": [],
   "source": [
    "raster = rasterio.open(workspace + '/' 'raster.tif')"
   ]
  },
  {
   "cell_type": "code",
   "execution_count": 9,
   "metadata": {},
   "outputs": [],
   "source": [
    "shape = raster.shape\n",
    "affine = raster.transform\n",
    "\n",
    "out_meta = raster.meta\n",
    "\n",
    "out_meta.update({\"driver\": \"GTiff\",\n",
    "                 \"height\": raster.height,\n",
    "                 \"width\": raster.width,\n",
    "                 \"transform\": raster.transform,\n",
    "                 'compress': 'NONE',\n",
    "                 'dtype': rasterio.float32,\n",
    "                 \"crs\": raster.crs,\n",
    "                 'nodata': 9999})"
   ]
  },
  {
   "cell_type": "markdown",
   "metadata": {},
   "source": [
    "#### Create cost layer from roads"
   ]
  },
  {
   "cell_type": "code",
   "execution_count": 10,
   "metadata": {},
   "outputs": [],
   "source": [
    "roads_path = r'C:\\GitHub\\many-to-many-dijkstra\\burundi\\roads.gpkg'\n",
    "roads = gpd.read_file(roads_path).to_crs(crs)"
   ]
  },
  {
   "cell_type": "code",
   "execution_count": 11,
   "metadata": {},
   "outputs": [],
   "source": [
    "roads[\"weight\"] = 1\n",
    "roads.loc[roads[\"highway\"] == \"motorway\", \"weight\"] = 1 / 10\n",
    "roads.loc[roads[\"highway\"] == \"trunk\", \"weight\"] = 1 / 9\n",
    "roads.loc[roads[\"highway\"] == \"primary\", \"weight\"] = 1 / 8\n",
    "roads.loc[roads[\"highway\"] == \"secondary\", \"weight\"] = 1 / 7\n",
    "roads.loc[roads[\"highway\"] == \"tertiary\", \"weight\"] = 1 / 6\n",
    "roads.loc[roads[\"highway\"] == \"unclassified\", \"weight\"] = 1 / 5\n",
    "roads.loc[roads[\"highway\"] == \"residential\", \"weight\"] = 1 / 4\n",
    "roads.loc[roads[\"highway\"] == \"service\", \"weight\"] = 1 / 3\n",
    "\n",
    "roads = roads[roads.weight != 1]\n",
    "\n",
    "roads = roads.sort_values(by=\"weight\", ascending=False)\n",
    "\n",
    "roads_for_raster = [(row.geometry, row.weight) for _, row in roads.iterrows()]\n",
    "\n",
    "roads_raster = rasterize(\n",
    "        roads_for_raster,\n",
    "        out_shape=shape,\n",
    "        fill=999,\n",
    "        default_value=0,\n",
    "        all_touched=True,\n",
    "        transform=affine,\n",
    "    )\n",
    "\n",
    "with rasterio.open(workspace + '/' + 'roads_cost.tif', 'w', **out_meta) as dst:\n",
    "    dst.write(roads_raster, indexes=1)"
   ]
  },
  {
   "cell_type": "markdown",
   "metadata": {},
   "source": [
    "#### Create cost layer from rivers"
   ]
  },
  {
   "cell_type": "code",
   "execution_count": 12,
   "metadata": {},
   "outputs": [],
   "source": [
    "rivers_path = r'C:\\GitHub\\many-to-many-dijkstra\\burundi\\af_riv_30s.shp'\n",
    "rivers = gpd.read_file(rivers_path, mask=boundaries).to_crs(crs)"
   ]
  },
  {
   "cell_type": "code",
   "execution_count": 13,
   "metadata": {},
   "outputs": [],
   "source": [
    "rivers['weight'] = 99\n",
    "\n",
    "rivers_for_raster = [(row.geometry, row.weight) for _, row in rivers.iterrows()]\n",
    "\n",
    "rivers_raster = rasterize(\n",
    "        rivers_for_raster,\n",
    "        out_shape=shape,\n",
    "        fill=999,\n",
    "        default_value=0,\n",
    "        all_touched=True,\n",
    "        transform=affine,\n",
    "    )\n",
    "\n",
    "with rasterio.open(workspace + '/' + 'rivers_cost.tif', 'w', **out_meta) as dst:\n",
    "    dst.write(rivers_raster, indexes=1)"
   ]
  },
  {
   "cell_type": "markdown",
   "metadata": {},
   "source": [
    "#### Create cost layer from power lines"
   ]
  },
  {
   "cell_type": "code",
   "execution_count": 14,
   "metadata": {},
   "outputs": [],
   "source": [
    "power_path = r'C:\\GitHub\\many-to-many-dijkstra\\burundi\\burundigrid.geojson'\n",
    "power = gpd.read_file(power_path, mask=boundaries).to_crs(crs)"
   ]
  },
  {
   "cell_type": "code",
   "execution_count": 15,
   "metadata": {},
   "outputs": [],
   "source": [
    "power['weight'] = 0\n",
    "\n",
    "power_for_raster = [(row.geometry, row.weight) for _, row in power.iterrows()]\n",
    "\n",
    "power_raster = rasterize(\n",
    "        power_for_raster,\n",
    "        out_shape=shape,\n",
    "        fill=999,\n",
    "        default_value=0,\n",
    "        all_touched=True,\n",
    "        transform=affine,\n",
    "    )\n",
    "\n",
    "with rasterio.open(workspace + '/' + 'power_cost.tif', 'w', **out_meta) as dst:\n",
    "    dst.write(power_raster, indexes=1)"
   ]
  },
  {
   "cell_type": "markdown",
   "metadata": {},
   "source": [
    "#### Create cost layer from water bodies"
   ]
  },
  {
   "cell_type": "code",
   "execution_count": 16,
   "metadata": {},
   "outputs": [],
   "source": [
    "waters_path = r'C:\\GitHub\\many-to-many-dijkstra\\burundi\\africawaterbody.geojson'\n",
    "waters = gpd.read_file(waters_path, mask=boundaries).to_crs(crs)"
   ]
  },
  {
   "cell_type": "code",
   "execution_count": 17,
   "metadata": {},
   "outputs": [],
   "source": [
    "waters['weight'] = 99\n",
    "\n",
    "waters_for_raster = [(row.geometry, row.weight) for _, row in waters.iterrows()]\n",
    "\n",
    "waters_raster = rasterize(\n",
    "        waters_for_raster,\n",
    "        out_shape=shape,\n",
    "        fill=999,\n",
    "        default_value=0,\n",
    "        all_touched=True,\n",
    "        transform=affine,\n",
    "    )\n",
    "\n",
    "with rasterio.open(workspace + '/' + 'waters_cost.tif', 'w', **out_meta) as dst:\n",
    "    dst.write(waters_raster, indexes=1)"
   ]
  },
  {
   "cell_type": "markdown",
   "metadata": {},
   "source": [
    "#### Create cost layer from elevation"
   ]
  },
  {
   "cell_type": "code",
   "execution_count": 18,
   "metadata": {},
   "outputs": [],
   "source": [
    "dem_path = r'C:\\GitHub\\many-to-many-dijkstra\\burundi\\dem_burundi.tif'"
   ]
  },
  {
   "cell_type": "code",
   "execution_count": 19,
   "metadata": {},
   "outputs": [],
   "source": [
    "dem = rasterio.open(dem_path).read(1)\n",
    "dem_meta = rasterio.open(dem_path).meta\n",
    "\n",
    "destination = np.ones((out_meta['height'], out_meta['width'])) * 999\n",
    "\n",
    "elevation, elevation_affine = reproject(\n",
    "    source=dem,\n",
    "    destination=destination,\n",
    "    src_transform=dem_meta['transform'],\n",
    "    src_crs=dem_meta['crs'],\n",
    "    dst_transform=out_meta['transform'],\n",
    "    dst_crs=out_meta['crs'],\n",
    "    resampling=Resampling['cubic'])\n",
    "\n"
   ]
  },
  {
   "cell_type": "code",
   "execution_count": 20,
   "metadata": {
    "scrolled": true
   },
   "outputs": [],
   "source": [
    "elevation_array = rd.rdarray(elevation, no_data=-9999)\n",
    "elevation_array.projection = crs\n",
    "elevation_array.geotransform = elevation_affine\n",
    "slope = rd.TerrainAttribute(elevation_array, attrib='slope_degrees')"
   ]
  },
  {
   "cell_type": "code",
   "execution_count": 21,
   "metadata": {},
   "outputs": [],
   "source": [
    "elevation = np.where(elevation > 2000, 1, elevation)\n",
    "elevation = np.where(elevation > 1600, 0.8, elevation)\n",
    "elevation = np.where(elevation > 1200, 0.6, elevation)\n",
    "elevation = np.where(elevation > 800, 0.4, elevation)\n",
    "elevation = np.where(elevation > 1, 0.2, elevation)\n",
    "elevation = np.where(elevation < 0.2, 1, elevation)"
   ]
  },
  {
   "cell_type": "markdown",
   "metadata": {},
   "source": [
    "#### Create final cost layer"
   ]
  },
  {
   "cell_type": "code",
   "execution_count": 22,
   "metadata": {},
   "outputs": [],
   "source": [
    "costs_1 = np.minimum(rivers_raster, power_raster) \n",
    "costs_2 = np.minimum(roads_raster, waters_raster)\n",
    "costs = np.minimum (costs_1, costs_2)\n",
    "costs = np.where(costs >= 999, 1, costs)\n",
    "costs += elevation\n",
    "\n",
    "costs = np.where((costs > 99) & (costs < 101), 99, costs)\n",
    "\n",
    "with rasterio.open(workspace + '/' + 'final_cost.tif', 'w', **out_meta) as dst:\n",
    "    dst.write(costs, indexes=1)"
   ]
  },
  {
   "cell_type": "markdown",
   "metadata": {},
   "source": [
    "## Perform dijkstra"
   ]
  },
  {
   "cell_type": "code",
   "execution_count": 23,
   "metadata": {},
   "outputs": [],
   "source": [
    "targets = rasterio.open(r'C:\\GitHub\\many-to-many-dijkstra\\burundi\\hydros_cost.tif').read(1)\n",
    "targets = np.where(targets==10, 1, 0)"
   ]
  },
  {
   "cell_type": "code",
   "execution_count": 24,
   "metadata": {},
   "outputs": [],
   "source": [
    "origins = np.where(power_raster==0, 1, 0)"
   ]
  },
  {
   "cell_type": "code",
   "execution_count": null,
   "metadata": {},
   "outputs": [],
   "source": [
    "pathfinder = seek(origins, targets, costs, path_handling='link', debug=False, film=True)"
   ]
  },
  {
   "cell_type": "code",
   "execution_count": null,
   "metadata": {},
   "outputs": [],
   "source": [
    "with rasterio.open(workspace + '/' + 'burundi_dijkstra_path.tif', 'w', **out_meta) as dst:\n",
    "    dst.write(pathfinder['paths'], indexes=1)"
   ]
  },
  {
   "cell_type": "code",
   "execution_count": null,
   "metadata": {},
   "outputs": [],
   "source": [
    "with rasterio.open(workspace + '/' + 'burundi_dijkstra_distance.tif', 'w', **out_meta) as dst:\n",
    "    dst.write(pathfinder['distance'], indexes=1)"
   ]
  },
  {
   "cell_type": "code",
   "execution_count": null,
   "metadata": {},
   "outputs": [],
   "source": []
  }
 ],
 "metadata": {
  "kernelspec": {
   "display_name": "Python 3",
   "language": "python",
   "name": "python3"
  },
  "language_info": {
   "codemirror_mode": {
    "name": "ipython",
    "version": 3
   },
   "file_extension": ".py",
   "mimetype": "text/x-python",
   "name": "python",
   "nbconvert_exporter": "python",
   "pygments_lexer": "ipython3",
   "version": "3.8.5"
  }
 },
 "nbformat": 4,
 "nbformat_minor": 5
}
