{
 "cells": [
  {
   "cell_type": "code",
   "execution_count": 3,
   "id": "ef6d99f7",
   "metadata": {},
   "outputs": [
    {
     "ename": "ModuleNotFoundError",
     "evalue": "No module named 'line_profiler'",
     "output_type": "error",
     "traceback": [
      "\u001b[1;31m---------------------------------------------------------------------------\u001b[0m",
      "\u001b[1;31mModuleNotFoundError\u001b[0m                       Traceback (most recent call last)",
      "\u001b[1;32m~\\AppData\\Local\\Temp/ipykernel_17064/3560559224.py\u001b[0m in \u001b[0;36m<module>\u001b[1;34m\u001b[0m\n\u001b[0;32m     21\u001b[0m \u001b[1;33m\u001b[0m\u001b[0m\n\u001b[0;32m     22\u001b[0m \u001b[0mget_ipython\u001b[0m\u001b[1;33m(\u001b[0m\u001b[1;33m)\u001b[0m\u001b[1;33m.\u001b[0m\u001b[0mrun_line_magic\u001b[0m\u001b[1;33m(\u001b[0m\u001b[1;34m'matplotlib'\u001b[0m\u001b[1;33m,\u001b[0m \u001b[1;34m'inline'\u001b[0m\u001b[1;33m)\u001b[0m\u001b[1;33m\u001b[0m\u001b[1;33m\u001b[0m\u001b[0m\n\u001b[1;32m---> 23\u001b[1;33m \u001b[0mget_ipython\u001b[0m\u001b[1;33m(\u001b[0m\u001b[1;33m)\u001b[0m\u001b[1;33m.\u001b[0m\u001b[0mrun_line_magic\u001b[0m\u001b[1;33m(\u001b[0m\u001b[1;34m'load_ext'\u001b[0m\u001b[1;33m,\u001b[0m \u001b[1;34m'line_profiler'\u001b[0m\u001b[1;33m)\u001b[0m\u001b[1;33m\u001b[0m\u001b[1;33m\u001b[0m\u001b[0m\n\u001b[0m\u001b[0;32m     24\u001b[0m \u001b[1;33m\u001b[0m\u001b[0m\n\u001b[0;32m     25\u001b[0m \u001b[1;32mimport\u001b[0m \u001b[0mwarnings\u001b[0m\u001b[1;33m\u001b[0m\u001b[1;33m\u001b[0m\u001b[0m\n",
      "\u001b[1;32m~\\.conda\\envs\\gis\\lib\\site-packages\\IPython\\core\\interactiveshell.py\u001b[0m in \u001b[0;36mrun_line_magic\u001b[1;34m(self, magic_name, line, _stack_depth)\u001b[0m\n\u001b[0;32m   2349\u001b[0m                 \u001b[0mkwargs\u001b[0m\u001b[1;33m[\u001b[0m\u001b[1;34m'local_ns'\u001b[0m\u001b[1;33m]\u001b[0m \u001b[1;33m=\u001b[0m \u001b[0mself\u001b[0m\u001b[1;33m.\u001b[0m\u001b[0mget_local_scope\u001b[0m\u001b[1;33m(\u001b[0m\u001b[0mstack_depth\u001b[0m\u001b[1;33m)\u001b[0m\u001b[1;33m\u001b[0m\u001b[1;33m\u001b[0m\u001b[0m\n\u001b[0;32m   2350\u001b[0m             \u001b[1;32mwith\u001b[0m \u001b[0mself\u001b[0m\u001b[1;33m.\u001b[0m\u001b[0mbuiltin_trap\u001b[0m\u001b[1;33m:\u001b[0m\u001b[1;33m\u001b[0m\u001b[1;33m\u001b[0m\u001b[0m\n\u001b[1;32m-> 2351\u001b[1;33m                 \u001b[0mresult\u001b[0m \u001b[1;33m=\u001b[0m \u001b[0mfn\u001b[0m\u001b[1;33m(\u001b[0m\u001b[1;33m*\u001b[0m\u001b[0margs\u001b[0m\u001b[1;33m,\u001b[0m \u001b[1;33m**\u001b[0m\u001b[0mkwargs\u001b[0m\u001b[1;33m)\u001b[0m\u001b[1;33m\u001b[0m\u001b[1;33m\u001b[0m\u001b[0m\n\u001b[0m\u001b[0;32m   2352\u001b[0m             \u001b[1;32mreturn\u001b[0m \u001b[0mresult\u001b[0m\u001b[1;33m\u001b[0m\u001b[1;33m\u001b[0m\u001b[0m\n\u001b[0;32m   2353\u001b[0m \u001b[1;33m\u001b[0m\u001b[0m\n",
      "\u001b[1;32m~\\.conda\\envs\\gis\\lib\\site-packages\\decorator.py\u001b[0m in \u001b[0;36mfun\u001b[1;34m(*args, **kw)\u001b[0m\n\u001b[0;32m    230\u001b[0m             \u001b[1;32mif\u001b[0m \u001b[1;32mnot\u001b[0m \u001b[0mkwsyntax\u001b[0m\u001b[1;33m:\u001b[0m\u001b[1;33m\u001b[0m\u001b[1;33m\u001b[0m\u001b[0m\n\u001b[0;32m    231\u001b[0m                 \u001b[0margs\u001b[0m\u001b[1;33m,\u001b[0m \u001b[0mkw\u001b[0m \u001b[1;33m=\u001b[0m \u001b[0mfix\u001b[0m\u001b[1;33m(\u001b[0m\u001b[0margs\u001b[0m\u001b[1;33m,\u001b[0m \u001b[0mkw\u001b[0m\u001b[1;33m,\u001b[0m \u001b[0msig\u001b[0m\u001b[1;33m)\u001b[0m\u001b[1;33m\u001b[0m\u001b[1;33m\u001b[0m\u001b[0m\n\u001b[1;32m--> 232\u001b[1;33m             \u001b[1;32mreturn\u001b[0m \u001b[0mcaller\u001b[0m\u001b[1;33m(\u001b[0m\u001b[0mfunc\u001b[0m\u001b[1;33m,\u001b[0m \u001b[1;33m*\u001b[0m\u001b[1;33m(\u001b[0m\u001b[0mextras\u001b[0m \u001b[1;33m+\u001b[0m \u001b[0margs\u001b[0m\u001b[1;33m)\u001b[0m\u001b[1;33m,\u001b[0m \u001b[1;33m**\u001b[0m\u001b[0mkw\u001b[0m\u001b[1;33m)\u001b[0m\u001b[1;33m\u001b[0m\u001b[1;33m\u001b[0m\u001b[0m\n\u001b[0m\u001b[0;32m    233\u001b[0m     \u001b[0mfun\u001b[0m\u001b[1;33m.\u001b[0m\u001b[0m__name__\u001b[0m \u001b[1;33m=\u001b[0m \u001b[0mfunc\u001b[0m\u001b[1;33m.\u001b[0m\u001b[0m__name__\u001b[0m\u001b[1;33m\u001b[0m\u001b[1;33m\u001b[0m\u001b[0m\n\u001b[0;32m    234\u001b[0m     \u001b[0mfun\u001b[0m\u001b[1;33m.\u001b[0m\u001b[0m__doc__\u001b[0m \u001b[1;33m=\u001b[0m \u001b[0mfunc\u001b[0m\u001b[1;33m.\u001b[0m\u001b[0m__doc__\u001b[0m\u001b[1;33m\u001b[0m\u001b[1;33m\u001b[0m\u001b[0m\n",
      "\u001b[1;32m~\\.conda\\envs\\gis\\lib\\site-packages\\IPython\\core\\magic.py\u001b[0m in \u001b[0;36m<lambda>\u001b[1;34m(f, *a, **k)\u001b[0m\n\u001b[0;32m    185\u001b[0m     \u001b[1;31m# but it's overkill for just that one bit of state.\u001b[0m\u001b[1;33m\u001b[0m\u001b[1;33m\u001b[0m\u001b[0m\n\u001b[0;32m    186\u001b[0m     \u001b[1;32mdef\u001b[0m \u001b[0mmagic_deco\u001b[0m\u001b[1;33m(\u001b[0m\u001b[0marg\u001b[0m\u001b[1;33m)\u001b[0m\u001b[1;33m:\u001b[0m\u001b[1;33m\u001b[0m\u001b[1;33m\u001b[0m\u001b[0m\n\u001b[1;32m--> 187\u001b[1;33m         \u001b[0mcall\u001b[0m \u001b[1;33m=\u001b[0m \u001b[1;32mlambda\u001b[0m \u001b[0mf\u001b[0m\u001b[1;33m,\u001b[0m \u001b[1;33m*\u001b[0m\u001b[0ma\u001b[0m\u001b[1;33m,\u001b[0m \u001b[1;33m**\u001b[0m\u001b[0mk\u001b[0m\u001b[1;33m:\u001b[0m \u001b[0mf\u001b[0m\u001b[1;33m(\u001b[0m\u001b[1;33m*\u001b[0m\u001b[0ma\u001b[0m\u001b[1;33m,\u001b[0m \u001b[1;33m**\u001b[0m\u001b[0mk\u001b[0m\u001b[1;33m)\u001b[0m\u001b[1;33m\u001b[0m\u001b[1;33m\u001b[0m\u001b[0m\n\u001b[0m\u001b[0;32m    188\u001b[0m \u001b[1;33m\u001b[0m\u001b[0m\n\u001b[0;32m    189\u001b[0m         \u001b[1;32mif\u001b[0m \u001b[0mcallable\u001b[0m\u001b[1;33m(\u001b[0m\u001b[0marg\u001b[0m\u001b[1;33m)\u001b[0m\u001b[1;33m:\u001b[0m\u001b[1;33m\u001b[0m\u001b[1;33m\u001b[0m\u001b[0m\n",
      "\u001b[1;32m~\\.conda\\envs\\gis\\lib\\site-packages\\IPython\\core\\magics\\extension.py\u001b[0m in \u001b[0;36mload_ext\u001b[1;34m(self, module_str)\u001b[0m\n\u001b[0;32m     31\u001b[0m         \u001b[1;32mif\u001b[0m \u001b[1;32mnot\u001b[0m \u001b[0mmodule_str\u001b[0m\u001b[1;33m:\u001b[0m\u001b[1;33m\u001b[0m\u001b[1;33m\u001b[0m\u001b[0m\n\u001b[0;32m     32\u001b[0m             \u001b[1;32mraise\u001b[0m \u001b[0mUsageError\u001b[0m\u001b[1;33m(\u001b[0m\u001b[1;34m'Missing module name.'\u001b[0m\u001b[1;33m)\u001b[0m\u001b[1;33m\u001b[0m\u001b[1;33m\u001b[0m\u001b[0m\n\u001b[1;32m---> 33\u001b[1;33m         \u001b[0mres\u001b[0m \u001b[1;33m=\u001b[0m \u001b[0mself\u001b[0m\u001b[1;33m.\u001b[0m\u001b[0mshell\u001b[0m\u001b[1;33m.\u001b[0m\u001b[0mextension_manager\u001b[0m\u001b[1;33m.\u001b[0m\u001b[0mload_extension\u001b[0m\u001b[1;33m(\u001b[0m\u001b[0mmodule_str\u001b[0m\u001b[1;33m)\u001b[0m\u001b[1;33m\u001b[0m\u001b[1;33m\u001b[0m\u001b[0m\n\u001b[0m\u001b[0;32m     34\u001b[0m \u001b[1;33m\u001b[0m\u001b[0m\n\u001b[0;32m     35\u001b[0m         \u001b[1;32mif\u001b[0m \u001b[0mres\u001b[0m \u001b[1;33m==\u001b[0m \u001b[1;34m'already loaded'\u001b[0m\u001b[1;33m:\u001b[0m\u001b[1;33m\u001b[0m\u001b[1;33m\u001b[0m\u001b[0m\n",
      "\u001b[1;32m~\\.conda\\envs\\gis\\lib\\site-packages\\IPython\\core\\extensions.py\u001b[0m in \u001b[0;36mload_extension\u001b[1;34m(self, module_str)\u001b[0m\n\u001b[0;32m     78\u001b[0m             \u001b[1;32mif\u001b[0m \u001b[0mmodule_str\u001b[0m \u001b[1;32mnot\u001b[0m \u001b[1;32min\u001b[0m \u001b[0msys\u001b[0m\u001b[1;33m.\u001b[0m\u001b[0mmodules\u001b[0m\u001b[1;33m:\u001b[0m\u001b[1;33m\u001b[0m\u001b[1;33m\u001b[0m\u001b[0m\n\u001b[0;32m     79\u001b[0m                 \u001b[1;32mwith\u001b[0m \u001b[0mprepended_to_syspath\u001b[0m\u001b[1;33m(\u001b[0m\u001b[0mself\u001b[0m\u001b[1;33m.\u001b[0m\u001b[0mipython_extension_dir\u001b[0m\u001b[1;33m)\u001b[0m\u001b[1;33m:\u001b[0m\u001b[1;33m\u001b[0m\u001b[1;33m\u001b[0m\u001b[0m\n\u001b[1;32m---> 80\u001b[1;33m                     \u001b[0mmod\u001b[0m \u001b[1;33m=\u001b[0m \u001b[0mimport_module\u001b[0m\u001b[1;33m(\u001b[0m\u001b[0mmodule_str\u001b[0m\u001b[1;33m)\u001b[0m\u001b[1;33m\u001b[0m\u001b[1;33m\u001b[0m\u001b[0m\n\u001b[0m\u001b[0;32m     81\u001b[0m                     \u001b[1;32mif\u001b[0m \u001b[0mmod\u001b[0m\u001b[1;33m.\u001b[0m\u001b[0m__file__\u001b[0m\u001b[1;33m.\u001b[0m\u001b[0mstartswith\u001b[0m\u001b[1;33m(\u001b[0m\u001b[0mself\u001b[0m\u001b[1;33m.\u001b[0m\u001b[0mipython_extension_dir\u001b[0m\u001b[1;33m)\u001b[0m\u001b[1;33m:\u001b[0m\u001b[1;33m\u001b[0m\u001b[1;33m\u001b[0m\u001b[0m\n\u001b[0;32m     82\u001b[0m                         print((\"Loading extensions from {dir} is deprecated. \"\n",
      "\u001b[1;32m~\\.conda\\envs\\gis\\lib\\importlib\\__init__.py\u001b[0m in \u001b[0;36mimport_module\u001b[1;34m(name, package)\u001b[0m\n\u001b[0;32m    125\u001b[0m                 \u001b[1;32mbreak\u001b[0m\u001b[1;33m\u001b[0m\u001b[1;33m\u001b[0m\u001b[0m\n\u001b[0;32m    126\u001b[0m             \u001b[0mlevel\u001b[0m \u001b[1;33m+=\u001b[0m \u001b[1;36m1\u001b[0m\u001b[1;33m\u001b[0m\u001b[1;33m\u001b[0m\u001b[0m\n\u001b[1;32m--> 127\u001b[1;33m     \u001b[1;32mreturn\u001b[0m \u001b[0m_bootstrap\u001b[0m\u001b[1;33m.\u001b[0m\u001b[0m_gcd_import\u001b[0m\u001b[1;33m(\u001b[0m\u001b[0mname\u001b[0m\u001b[1;33m[\u001b[0m\u001b[0mlevel\u001b[0m\u001b[1;33m:\u001b[0m\u001b[1;33m]\u001b[0m\u001b[1;33m,\u001b[0m \u001b[0mpackage\u001b[0m\u001b[1;33m,\u001b[0m \u001b[0mlevel\u001b[0m\u001b[1;33m)\u001b[0m\u001b[1;33m\u001b[0m\u001b[1;33m\u001b[0m\u001b[0m\n\u001b[0m\u001b[0;32m    128\u001b[0m \u001b[1;33m\u001b[0m\u001b[0m\n\u001b[0;32m    129\u001b[0m \u001b[1;33m\u001b[0m\u001b[0m\n",
      "\u001b[1;32m~\\.conda\\envs\\gis\\lib\\importlib\\_bootstrap.py\u001b[0m in \u001b[0;36m_gcd_import\u001b[1;34m(name, package, level)\u001b[0m\n",
      "\u001b[1;32m~\\.conda\\envs\\gis\\lib\\importlib\\_bootstrap.py\u001b[0m in \u001b[0;36m_find_and_load\u001b[1;34m(name, import_)\u001b[0m\n",
      "\u001b[1;32m~\\.conda\\envs\\gis\\lib\\importlib\\_bootstrap.py\u001b[0m in \u001b[0;36m_find_and_load_unlocked\u001b[1;34m(name, import_)\u001b[0m\n",
      "\u001b[1;31mModuleNotFoundError\u001b[0m: No module named 'line_profiler'"
     ]
    }
   ],
   "source": [
    "import fiona\n",
    "import rasterio\n",
    "import rasterio.mask\n",
    "from rasterio.features import rasterize\n",
    "from rasterio.transform import from_bounds\n",
    "from rasterio.warp import calculate_default_transform, reproject, Resampling\n",
    "import geopandas as gpd\n",
    "import json\n",
    "import richdem as rd\n",
    "from shapely.geometry import box\n",
    "from shapely.geometry import shape, mapping\n",
    "import pandas as pd\n",
    "import numpy as np\n",
    "from geopandas import clip\n",
    "import scipy\n",
    "import scipy.spatial\n",
    "import datetime\n",
    "import numba\n",
    "\n",
    "from pathfinder import *\n",
    "\n",
    "%matplotlib inline\n",
    "%load_ext line_profiler\n",
    "\n",
    "import warnings\n",
    "warnings.filterwarnings('ignore')"
   ]
  },
  {
   "cell_type": "markdown",
   "id": "b659c794",
   "metadata": {},
   "source": [
    "#### Define the workspace to read and write data from"
   ]
  },
  {
   "cell_type": "code",
   "execution_count": 2,
   "id": "279f167c",
   "metadata": {},
   "outputs": [],
   "source": [
    "workspace = 'burundi'"
   ]
  },
  {
   "cell_type": "markdown",
   "id": "3021157e",
   "metadata": {},
   "source": [
    "#### Define the target coordinate reference system (CRS) - should be in meters"
   ]
  },
  {
   "cell_type": "code",
   "execution_count": 3,
   "id": "d23df976",
   "metadata": {},
   "outputs": [],
   "source": [
    "crs = 3395"
   ]
  },
  {
   "cell_type": "markdown",
   "id": "2a34ae3a",
   "metadata": {},
   "source": [
    "#### Next, define the path to a polygon of your study area (e.g. from GADM)"
   ]
  },
  {
   "cell_type": "code",
   "execution_count": 4,
   "id": "8613f57d",
   "metadata": {},
   "outputs": [],
   "source": [
    "boundaries_path = r'C:\\GitHub\\many-to-many-dijkstra\\burundi\\gadm36_BDI.gpkg'"
   ]
  },
  {
   "cell_type": "code",
   "execution_count": 5,
   "id": "4600c07f",
   "metadata": {},
   "outputs": [],
   "source": [
    "boundaries = gpd.read_file(boundaries_path).to_crs(crs)"
   ]
  },
  {
   "cell_type": "markdown",
   "id": "2efae71c",
   "metadata": {},
   "source": [
    "#### In the next step, we create a raster of the study area with a defined resolution"
   ]
  },
  {
   "cell_type": "code",
   "execution_count": 6,
   "id": "57a89d96",
   "metadata": {},
   "outputs": [],
   "source": [
    "resolution = 50 # meters (same unit as your crs)"
   ]
  },
  {
   "cell_type": "code",
   "execution_count": 7,
   "id": "89bc981d",
   "metadata": {},
   "outputs": [],
   "source": [
    "total_bounds = boundaries['geometry'].total_bounds\n",
    "width = round((total_bounds[3] - total_bounds[1])/resolution)\n",
    "height = round((total_bounds[2] - total_bounds[0])/resolution)\n",
    "\n",
    "shape =  height, width\n",
    "transform = rasterio.transform.from_bounds(*boundaries['geometry'].total_bounds, shape[0], shape[1])\n",
    "rasterized = rasterize(\n",
    "    [(shape) for shape in boundaries['geometry']],\n",
    "    out_shape=(width, height),\n",
    "    transform=transform,\n",
    "    all_touched=True,\n",
    "    dtype=rasterio.uint8)\n",
    "\n",
    "with rasterio.open(\n",
    "    workspace + '/' 'raster.tif', 'w',\n",
    "    driver='GTiff',\n",
    "    dtype=rasterio.uint8,\n",
    "    count=1,\n",
    "    crs = crs,\n",
    "    width=shape[0],\n",
    "    height=shape[1],\n",
    "    transform=transform,\n",
    "    nodata = 0\n",
    ") as dst:\n",
    "    dst.write(rasterized, indexes=1)"
   ]
  },
  {
   "cell_type": "code",
   "execution_count": 8,
   "id": "8f73382b",
   "metadata": {},
   "outputs": [],
   "source": [
    "raster = rasterio.open(workspace + '/' 'raster.tif')"
   ]
  },
  {
   "cell_type": "code",
   "execution_count": 9,
   "id": "84eca661",
   "metadata": {},
   "outputs": [],
   "source": [
    "shape = raster.shape\n",
    "affine = raster.transform\n",
    "\n",
    "out_meta = raster.meta\n",
    "\n",
    "out_meta.update({\"driver\": \"GTiff\",\n",
    "                 \"height\": raster.height,\n",
    "                 \"width\": raster.width,\n",
    "                 \"transform\": raster.transform,\n",
    "                 'compress': 'NONE',\n",
    "                 'dtype': rasterio.float32,\n",
    "                 \"crs\": raster.crs,\n",
    "                 'nodata': 9999})"
   ]
  },
  {
   "cell_type": "markdown",
   "id": "85d0dbed",
   "metadata": {},
   "source": [
    "#### Create cost layer from roads"
   ]
  },
  {
   "cell_type": "code",
   "execution_count": 10,
   "id": "9d3dcd8d",
   "metadata": {},
   "outputs": [],
   "source": [
    "roads_path = r'C:\\GitHub\\many-to-many-dijkstra\\burundi\\roads.gpkg'\n",
    "roads = gpd.read_file(roads_path).to_crs(crs)"
   ]
  },
  {
   "cell_type": "code",
   "execution_count": 11,
   "id": "cf9f5db3",
   "metadata": {},
   "outputs": [],
   "source": [
    "roads[\"weight\"] = 1\n",
    "roads.loc[roads[\"highway\"] == \"motorway\", \"weight\"] = 1 / 10\n",
    "roads.loc[roads[\"highway\"] == \"trunk\", \"weight\"] = 1 / 9\n",
    "roads.loc[roads[\"highway\"] == \"primary\", \"weight\"] = 1 / 8\n",
    "roads.loc[roads[\"highway\"] == \"secondary\", \"weight\"] = 1 / 7\n",
    "roads.loc[roads[\"highway\"] == \"tertiary\", \"weight\"] = 1 / 6\n",
    "roads.loc[roads[\"highway\"] == \"unclassified\", \"weight\"] = 1 / 5\n",
    "roads.loc[roads[\"highway\"] == \"residential\", \"weight\"] = 1 / 4\n",
    "roads.loc[roads[\"highway\"] == \"service\", \"weight\"] = 1 / 3\n",
    "\n",
    "roads = roads[roads.weight != 1]\n",
    "\n",
    "roads = roads.sort_values(by=\"weight\", ascending=False)\n",
    "\n",
    "roads_for_raster = [(row.geometry, row.weight) for _, row in roads.iterrows()]\n",
    "\n",
    "roads_raster = rasterize(\n",
    "        roads_for_raster,\n",
    "        out_shape=shape,\n",
    "        fill=999,\n",
    "        default_value=0,\n",
    "        all_touched=True,\n",
    "        transform=affine,\n",
    "    )\n",
    "\n",
    "with rasterio.open(workspace + '/' + 'roads_cost.tif', 'w', **out_meta) as dst:\n",
    "    dst.write(roads_raster, indexes=1)"
   ]
  },
  {
   "cell_type": "markdown",
   "id": "57023787",
   "metadata": {},
   "source": [
    "#### Create cost layer from rivers"
   ]
  },
  {
   "cell_type": "code",
   "execution_count": 12,
   "id": "a758752e",
   "metadata": {},
   "outputs": [],
   "source": [
    "rivers_path = r'C:\\GitHub\\many-to-many-dijkstra\\burundi\\af_riv_30s.shp'\n",
    "rivers = gpd.read_file(rivers_path, mask=boundaries).to_crs(crs)"
   ]
  },
  {
   "cell_type": "code",
   "execution_count": 13,
   "id": "86767002",
   "metadata": {},
   "outputs": [],
   "source": [
    "rivers['weight'] = 99\n",
    "\n",
    "rivers_for_raster = [(row.geometry, row.weight) for _, row in rivers.iterrows()]\n",
    "\n",
    "rivers_raster = rasterize(\n",
    "        rivers_for_raster,\n",
    "        out_shape=shape,\n",
    "        fill=999,\n",
    "        default_value=0,\n",
    "        all_touched=True,\n",
    "        transform=affine,\n",
    "    )\n",
    "\n",
    "with rasterio.open(workspace + '/' + 'rivers_cost.tif', 'w', **out_meta) as dst:\n",
    "    dst.write(rivers_raster, indexes=1)"
   ]
  },
  {
   "cell_type": "markdown",
   "id": "453dfd3a",
   "metadata": {},
   "source": [
    "#### Create cost layer from power lines"
   ]
  },
  {
   "cell_type": "code",
   "execution_count": 14,
   "id": "e103cfea",
   "metadata": {},
   "outputs": [],
   "source": [
    "power_path = r'C:\\GitHub\\many-to-many-dijkstra\\burundi\\burundigrid.geojson'\n",
    "power = gpd.read_file(power_path, mask=boundaries).to_crs(crs)"
   ]
  },
  {
   "cell_type": "code",
   "execution_count": 15,
   "id": "358526b1",
   "metadata": {},
   "outputs": [],
   "source": [
    "power['weight'] = 0\n",
    "\n",
    "power_for_raster = [(row.geometry, row.weight) for _, row in power.iterrows()]\n",
    "\n",
    "power_raster = rasterize(\n",
    "        power_for_raster,\n",
    "        out_shape=shape,\n",
    "        fill=999,\n",
    "        default_value=0,\n",
    "        all_touched=True,\n",
    "        transform=affine,\n",
    "    )\n",
    "\n",
    "with rasterio.open(workspace + '/' + 'power_cost.tif', 'w', **out_meta) as dst:\n",
    "    dst.write(power_raster, indexes=1)"
   ]
  },
  {
   "cell_type": "markdown",
   "id": "f8850a75",
   "metadata": {},
   "source": [
    "#### Create cost layer from water bodies"
   ]
  },
  {
   "cell_type": "code",
   "execution_count": 16,
   "id": "6021a0c7",
   "metadata": {},
   "outputs": [],
   "source": [
    "waters_path = r'C:\\GitHub\\many-to-many-dijkstra\\burundi\\africawaterbody.geojson'\n",
    "waters = gpd.read_file(waters_path, mask=boundaries).to_crs(crs)"
   ]
  },
  {
   "cell_type": "code",
   "execution_count": 17,
   "id": "1461f0b0",
   "metadata": {},
   "outputs": [],
   "source": [
    "waters['weight'] = 99\n",
    "\n",
    "waters_for_raster = [(row.geometry, row.weight) for _, row in waters.iterrows()]\n",
    "\n",
    "waters_raster = rasterize(\n",
    "        waters_for_raster,\n",
    "        out_shape=shape,\n",
    "        fill=999,\n",
    "        default_value=0,\n",
    "        all_touched=True,\n",
    "        transform=affine,\n",
    "    )\n",
    "\n",
    "with rasterio.open(workspace + '/' + 'waters_cost.tif', 'w', **out_meta) as dst:\n",
    "    dst.write(waters_raster, indexes=1)"
   ]
  },
  {
   "cell_type": "markdown",
   "id": "6275521b",
   "metadata": {},
   "source": [
    "#### Create cost layer from elevation"
   ]
  },
  {
   "cell_type": "code",
   "execution_count": 18,
   "id": "267c7c29",
   "metadata": {},
   "outputs": [],
   "source": [
    "dem_path = r'C:\\GitHub\\many-to-many-dijkstra\\burundi\\dem_burundi.tif'"
   ]
  },
  {
   "cell_type": "code",
   "execution_count": 19,
   "id": "58ca8da9",
   "metadata": {},
   "outputs": [],
   "source": [
    "dem = rasterio.open(dem_path).read(1)\n",
    "dem_meta = rasterio.open(dem_path).meta\n",
    "\n",
    "destination = np.ones((out_meta['height'], out_meta['width'])) * 999\n",
    "\n",
    "elevation, elevation_affine = reproject(\n",
    "    source=dem,\n",
    "    destination=destination,\n",
    "    src_transform=dem_meta['transform'],\n",
    "    src_crs=dem_meta['crs'],\n",
    "    dst_transform=out_meta['transform'],\n",
    "    dst_crs=out_meta['crs'],\n",
    "    resampling=Resampling['cubic'])\n",
    "\n"
   ]
  },
  {
   "cell_type": "code",
   "execution_count": 20,
   "id": "c0512957",
   "metadata": {
    "scrolled": true
   },
   "outputs": [],
   "source": [
    "elevation_array = rd.rdarray(elevation, no_data=-9999)\n",
    "elevation_array.projection = crs\n",
    "elevation_array.geotransform = elevation_affine\n",
    "slope = rd.TerrainAttribute(elevation_array, attrib='slope_degrees')"
   ]
  },
  {
   "cell_type": "code",
   "execution_count": 21,
   "id": "fc310aed",
   "metadata": {},
   "outputs": [],
   "source": [
    "elevation = np.where(elevation > 2000, 1, elevation)\n",
    "elevation = np.where(elevation > 1600, 0.8, elevation)\n",
    "elevation = np.where(elevation > 1200, 0.6, elevation)\n",
    "elevation = np.where(elevation > 800, 0.4, elevation)\n",
    "elevation = np.where(elevation > 1, 0.2, elevation)\n",
    "elevation = np.where(elevation < 0.2, 1, elevation)"
   ]
  },
  {
   "cell_type": "markdown",
   "id": "db3f6248",
   "metadata": {},
   "source": [
    "#### Create final cost layer"
   ]
  },
  {
   "cell_type": "code",
   "execution_count": 22,
   "id": "6953b0af",
   "metadata": {},
   "outputs": [],
   "source": [
    "costs_1 = np.minimum(rivers_raster, power_raster) \n",
    "costs_2 = np.minimum(roads_raster, waters_raster)\n",
    "costs = np.minimum (costs_1, costs_2)\n",
    "costs = np.where(costs >= 999, 1, costs)\n",
    "costs += elevation\n",
    "\n",
    "costs = np.where((costs > 99) & (costs < 101), 99, costs)\n",
    "\n",
    "with rasterio.open(workspace + '/' + 'final_cost.tif', 'w', **out_meta) as dst:\n",
    "    dst.write(costs, indexes=1)"
   ]
  },
  {
   "cell_type": "markdown",
   "id": "80468c8c",
   "metadata": {},
   "source": [
    "## Perform dijkstra"
   ]
  },
  {
   "cell_type": "code",
   "execution_count": null,
   "id": "fe390f72",
   "metadata": {},
   "outputs": [],
   "source": [
    "targets = rasterio.open(r'C:\\GitHub\\many-to-many-dijkstra\\burundi\\hydros_cost.tif').read(1)\n",
    "targets = np.where(targets==10, 1, 0)"
   ]
  },
  {
   "cell_type": "code",
   "execution_count": null,
   "id": "fee41c7f",
   "metadata": {},
   "outputs": [],
   "source": [
    "origins = np.where(power_raster==0, 1, 0)"
   ]
  },
  {
   "cell_type": "code",
   "execution_count": null,
   "id": "3433e156",
   "metadata": {},
   "outputs": [],
   "source": [
    "pathfinder = seek(origins, targets, costs, path_handling='link', debug=False, film=True)"
   ]
  },
  {
   "cell_type": "code",
   "execution_count": null,
   "id": "86f6cad7",
   "metadata": {},
   "outputs": [],
   "source": [
    "with rasterio.open(workspace + '/' + 'burundi_dijkstra_path.tif', 'w', **out_meta) as dst:\n",
    "    dst.write(pathfinder['paths'], indexes=1)"
   ]
  },
  {
   "cell_type": "code",
   "execution_count": null,
   "id": "802deb45",
   "metadata": {},
   "outputs": [],
   "source": [
    "with rasterio.open(workspace + '/' + 'burundi_dijkstra_distance.tif', 'w', **out_meta) as dst:\n",
    "    dst.write(pathfinder['distance'], indexes=1)"
   ]
  },
  {
   "cell_type": "code",
   "execution_count": null,
   "id": "4599fb99",
   "metadata": {},
   "outputs": [],
   "source": []
  }
 ],
 "metadata": {
  "kernelspec": {
   "display_name": "Python 3 (ipykernel)",
   "language": "python",
   "name": "python3"
  },
  "language_info": {
   "codemirror_mode": {
    "name": "ipython",
    "version": 3
   },
   "file_extension": ".py",
   "mimetype": "text/x-python",
   "name": "python",
   "nbconvert_exporter": "python",
   "pygments_lexer": "ipython3",
   "version": "3.9.7"
  }
 },
 "nbformat": 4,
 "nbformat_minor": 5
}
